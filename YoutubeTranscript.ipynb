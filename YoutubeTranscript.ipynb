{
  "nbformat": 4,
  "nbformat_minor": 0,
  "metadata": {
    "colab": {
      "provenance": []
    },
    "kernelspec": {
      "name": "python3",
      "display_name": "Python 3"
    },
    "language_info": {
      "name": "python"
    }
  },
  "cells": [
    {
      "cell_type": "code",
      "execution_count": 1,
      "metadata": {
        "id": "_FlltYMyG3nQ"
      },
      "outputs": [],
      "source": [
        "!pip install -q transformers"
      ]
    },
    {
      "cell_type": "code",
      "source": [
        "!pip install -q youtube_transcript_api"
      ],
      "metadata": {
        "id": "YJS5BWesHEtL"
      },
      "execution_count": 2,
      "outputs": []
    },
    {
      "cell_type": "code",
      "source": [
        "from transformers import pipeline\n",
        "from youtube_transcript_api import YouTubeTranscriptApi"
      ],
      "metadata": {
        "id": "KQJTtDqdHEwJ"
      },
      "execution_count": 3,
      "outputs": []
    },
    {
      "cell_type": "code",
      "source": [
        "youtube_video = \"https://www.youtube.com/watch?v=Hu4Yvq-g7_Y\""
      ],
      "metadata": {
        "id": "LaUu4F6EHEzE"
      },
      "execution_count": 43,
      "outputs": []
    },
    {
      "cell_type": "code",
      "source": [
        "video_id = youtube_video.split(\"=\")[1]"
      ],
      "metadata": {
        "id": "LkwjYpY7HE1u"
      },
      "execution_count": 44,
      "outputs": []
    },
    {
      "cell_type": "code",
      "source": [
        "video_id\n"
      ],
      "metadata": {
        "colab": {
          "base_uri": "https://localhost:8080/",
          "height": 36
        },
        "id": "bvptGy1PHE4q",
        "outputId": "0ad3f1d9-63ad-4db9-b496-81efd6047eea"
      },
      "execution_count": 45,
      "outputs": [
        {
          "output_type": "execute_result",
          "data": {
            "text/plain": [
              "'Hu4Yvq-g7_Y'"
            ],
            "application/vnd.google.colaboratory.intrinsic+json": {
              "type": "string"
            }
          },
          "metadata": {},
          "execution_count": 45
        }
      ]
    },
    {
      "cell_type": "code",
      "source": [
        "from IPython.display import YouTubeVideo\n",
        "YouTubeVideo(video_id)"
      ],
      "metadata": {
        "colab": {
          "base_uri": "https://localhost:8080/",
          "height": 322
        },
        "id": "53yrfONYHE7P",
        "outputId": "814b6404-b9ed-4bdf-f8ce-8f4f28e48eec"
      },
      "execution_count": 46,
      "outputs": [
        {
          "output_type": "execute_result",
          "data": {
            "text/plain": [
              "<IPython.lib.display.YouTubeVideo at 0x7d0fce36d840>"
            ],
            "text/html": [
              "\n",
              "        <iframe\n",
              "            width=\"400\"\n",
              "            height=\"300\"\n",
              "            src=\"https://www.youtube.com/embed/Hu4Yvq-g7_Y\"\n",
              "            frameborder=\"0\"\n",
              "            allowfullscreen\n",
              "            \n",
              "        ></iframe>\n",
              "        "
            ],
            "image/jpeg": "[encoded data removed]"
          },
          "metadata": {},
          "execution_count": 46
        }
      ]
    },
    {
      "cell_type": "code",
      "source": [
        "YouTubeTranscriptApi.get_transcript(video_id)\n",
        "transcript = YouTubeTranscriptApi.get_transcript(video_id)"
      ],
      "metadata": {
        "id": "nDJ0je1OHE-j"
      },
      "execution_count": 47,
      "outputs": []
    },
    {
      "cell_type": "code",
      "source": [
        "transcript[0:5]"
      ],
      "metadata": {
        "colab": {
          "base_uri": "https://localhost:8080/"
        },
        "id": "OWLQkXIAHkwN",
        "outputId": "cd3c253a-0e42-4027-8860-0580ab2c2f49"
      },
      "execution_count": 48,
      "outputs": [
        {
          "output_type": "execute_result",
          "data": {
            "text/plain": [
              "[{'text': 'Translator: Viviane P.\\nReviewer: Amanda Chu',\n",
              "  'start': 0.0,\n",
              "  'duration': 6.575},\n",
              " {'text': 'A few years ago,', 'start': 6.575, 'duration': 1.681},\n",
              " {'text': 'I began to observe\\nsomething in my own behavior',\n",
              "  'start': 8.256,\n",
              "  'duration': 4.286},\n",
              " {'text': 'that made me a bit uncomfortable.',\n",
              "  'start': 12.542,\n",
              "  'duration': 4.103},\n",
              " {'text': 'And that was that from the moment\\nthat I woke up to the end of the day,',\n",
              "  'start': 16.645,\n",
              "  'duration': 5.882}]"
            ]
          },
          "metadata": {},
          "execution_count": 48
        }
      ]
    },
    {
      "cell_type": "code",
      "source": [
        "result = \"\"\n",
        "for i in transcript:\n",
        "    result += ' ' + i['text']\n",
        "#print(result)\n",
        "print(len(result))"
      ],
      "metadata": {
        "colab": {
          "base_uri": "https://localhost:8080/"
        },
        "id": "H11tnUykHk07",
        "outputId": "b1be47ee-d12f-4616-b4f1-2e4bedae6498"
      },
      "execution_count": 49,
      "outputs": [
        {
          "output_type": "stream",
          "name": "stdout",
          "text": [
            "13696\n"
          ]
        }
      ]
    },
    {
      "cell_type": "code",
      "source": [
        "summarizer = pipeline('summarization')"
      ],
      "metadata": {
        "colab": {
          "base_uri": "https://localhost:8080/"
        },
        "id": "dH0J-i2MZxhJ",
        "outputId": "715a8b2c-e31c-4314-b9d2-3cebfb72e95c"
      },
      "execution_count": 50,
      "outputs": [
        {
          "output_type": "stream",
          "name": "stderr",
          "text": [
            "No model was supplied, defaulted to sshleifer/distilbart-cnn-12-6 and revision a4f8f3e (https://huggingface.co/sshleifer/distilbart-cnn-12-6).\n",
            "Using a pipeline without specifying a model name and revision in production is not recommended.\n"
          ]
        }
      ]
    },
    {
      "cell_type": "code",
      "source": [
        "num_iters = int(len(result)/1000)\n",
        "summarized_text = []\n",
        "for i in range(0, num_iters + 1):\n",
        "  start = 0\n",
        "  start = i * 1000\n",
        "  end = (i + 1) * 1000\n",
        "  print(\"input text \\n\" + result[start:end])\n",
        "  out = summarizer(result[start:end])\n",
        "  out = out[0]\n",
        "  out = out['summary_text']\n",
        "  print(\"Summarized text\\n\"+out)\n",
        "  summarized_text.append(out)"
      ],
      "metadata": {
        "colab": {
          "base_uri": "https://localhost:8080/"
        },
        "id": "TYHb_hMvHlAU",
        "outputId": "e2a67737-97f3-425d-b8ef-a4b43d3244cc"
      },
      "execution_count": 51,
      "outputs": [
        {
          "output_type": "stream",
          "name": "stdout",
          "text": [
            "input text \n",
            " Translator: Viviane P.\n",
            "Reviewer: Amanda Chu A few years ago, I began to observe\n",
            "something in my own behavior that made me a bit uncomfortable. And that was that from the moment\n",
            "that I woke up to the end of the day, my life was a series of screens. I started the day with the thing that woke me up\n",
            "first thing in the morning, my phone, and so I sat there in bed watching\n",
            "various cooking videos on Instagram and bouncing around between a bunch\n",
            "of different applications. But then it was time\n",
            "to get out of bed and cook breakfast, and so the thing that I focused then on, in addition to the omelette in the pan, was the iPad that was\n",
            "right next to the oven. And then it was time to do some work, and so I went to a different screen which was attached\n",
            "to another screen itself. All the while, this little devil on my wrist was tapping and beeping\n",
            "and blooping and distracting me as I was trying\n",
            "to get important stuff done. But there was one particular offender\n",
            "out of all of these different devices tha\n",
            "Summarized text\n",
            " Amanda Chu: \"From the moment I woke up to the end of the day, my life was a series of screens\" \"I started the day with the thing that woke me up first thing in the morning, my phone,\" she says . \"All the while, this little devil on my wrist was tapping and beeping and blooping and distracting me\"\n",
            "input text \n",
            "t I wasted more time on\n",
            "than anything else. That was this dastardly thing: my phone. I could spend hours\n",
            "on this thing every single day. And so I decided to essentially,\n",
            "for all intents and purposes, get rid of the thing for a month. As an experiment, I thought, \"I'm going to live on this thing\n",
            "for just 30 minutes every single day at a maximum.\" And so this is the amount\n",
            "of time I have for maps, this is the amount of time\n",
            "to call my mother, this is the amount of time I have for everything that I could\n",
            "possibly want to do, to listen to music, to listen to podcasts, and I observed what happened\n",
            "during this time. It took about a week to adjust downward into a new,\n",
            "lower level of stimulation, but once I did, I noticed that three\n",
            "curious things began to happen. First, my attention span grew. It was like I could focus on things, not effortlessly, but with much more ease than I could\n",
            "before this experiment started. In addition to this, though,\n",
            "as I was going about the world and especially whe\n",
            "Summarized text\n",
            " \"I wasted more time on my phone than anything else,\" says John Sutter . Sutter: \"I decided to essentially, for all intents and purposes, get rid of the thing for a month\" \"It took about a week to adjust downward into a new, progressivelylower level of stimulation,\" he says .\n",
            "input text \n",
            "n my mind\n",
            "wandered a bit, I had more ideas that my mind arrived at, and on top of this, I had more plans and thoughts\n",
            "about the future. Getting rid of one simple device\n",
            "led to these three effects. Why? Noticing this a few years back\n",
            "led me on this long journey to get to the bottom of what it takes\n",
            "to focus in a world of distraction. I pored over hundreds of research papers\n",
            "from front to back at my office. I don't know if you've ever watched\n",
            "one of those crime shows where somebody's solving a murder. And so they have this big Bristol board, and there's string attached to papers attached to memos\n",
            "attached to newspaper clippings - this is like what the state\n",
            "of my office was. I flew out to meet experts\n",
            "around the world who study focus; I conducted more experiments on myself until the point I had\n",
            "25,000 words of research notes about why this is the case. How does technology influence\n",
            "our attention and our ability to focus? I want to start with the attention spans that we have. This is how \n",
            "Summarized text\n",
            " Aims to get to the bottom of what it takes to focus in a world of distraction . Pored over hundreds of research papers from front to back at his office . Travelled out to meet experts around the world who study focus . Had 25,000 words of research notes about why this is the case .\n",
            "input text \n",
            "we pay attention\n",
            "to the world around us and how much control\n",
            "we have over our focus. The research around\n",
            "this particular area is fascinating. It turns out that when we do work\n",
            "in front of a computer, especially when our phone is nearby, we focus on one thing for just 40 seconds before we switch to doing something else, and when we have things like Slack open\n",
            "as we're doing some work, this lowers to 35 seconds. But the reason that this is the case\n",
            "is not what we might think, after looking at the research. We think the problem\n",
            "is that our brains are distracted. But after looking at the research, this is what I've come to know\n",
            "as a symptom for the deeper problem, which runs much more deeply -\n",
            "it's the root cause of this distraction. It's not that we're distracted;\n",
            "it's that our brains are overstimulated. It's that we crave distraction\n",
            "in the first place. Our brains love these tiny little nuggets of information and social media and email and these things that we do\n",
            "over the course of the d\n",
            "Summarized text\n",
            " We pay attention to the world around us and how much control we have over our focus. We think the problem is that our brains are distracted. But after looking at the research, this is what I've come to know is the root cause of this distraction. It's not that we're distracted; it's that we crave distraction. Our brains love these tiny little nuggets of information and social media .\n",
            "input text \n",
            "ay. There's even a mechanism in our mind\n",
            "called the \"novelty bias,\" by which our mind rewards us\n",
            "with a hit of dopamine, one of those wonderful pleasure chemicals, the same one we get when we eat and order\n",
            "a whole medium pizza from Domino's, you know, the same one\n",
            "that we get when we make love. We get that same stimulation\n",
            "when we check Facebook. We get this dopamine\n",
            "coursing through our mind. And so we not only crave distraction, but our mind rewards us for seeking out and finding\n",
            "distraction in the first place. So, this is the state of our minds today. We're at this hyperstimulated state where we bounce around between these bunch\n",
            "of different objects of attention that are very, very\n",
            "stimulating for our mind. And so I thought, \"Okay, if the phone\n",
            "had this impact on my attention span, what if I lowered how stimulated\n",
            "I was even more, still?\" And so, you know,\n",
            "this feeling that we experience when we go from being\n",
            "in a state of high stimulation into a state of low stimulation, it has a n\n",
            "Summarized text\n",
            " There's even a mechanism in our mind called the \"novelty bias,\" by which our mind rewards us with a hit of dopamine, one of those wonderful pleasure chemicals . So, this is the state of our minds today. We're at this hyperstimulated state where we bounce around between objects of attention that are very, very stimulating for our mind. And so, you know, this feeling that we experience when we go from being high stimulation into a state of low stimulation, it has a n\n",
            "input text \n",
            "ame. That name is called \"boredom,\" (Laughs) you know, this restlessness that we feel\n",
            "when we have this super busy week and then we're lying on the couch\n",
            "on a Sunday afternoon, thinking, \"Alright, well, what am I doing now?\" So, I put out a call to the readers\n",
            "of my website and I asked them, \"What is the most boring thing\n",
            "that you can think of doing? I'm going to make myself bored\n",
            "for an hour a day, for a month.\" And so I did some stuff that I still am\n",
            "upset about from my readers, to this day. Day one, I read the iTunes\n",
            "terms and conditions for one hour. (Laughter) It's actually shorter and more readable\n",
            "than you might think. Day four, I waited on hold with\n",
            "Air Canada's baggage claims department. It's very easy - This is the trick: if you want to make yourself bored, don't call the reservations department,\n",
            "call the baggage claim people because you're going to wait hours,\n",
            "if you ever get through at all. Day 19, I counted\n",
            "all the zeroes that I could in the first 10,000 digits of pi. Ugh.\n",
            "Summarized text\n",
            " \"Boredom\" is the restlessness that we feel when we have a busy week and then we're lying on the couch, thinking, \"Alright, well, what am I doing now?\" So, I put out a call to the readers of my website and I asked them, \"What is the most boring thing you can think of doing? I'm going to make myself bored,\" he says .\n",
            "input text \n",
            " Day 24, I watched a clock tick, tick for one hour. And 27 other activities this month. Jeez. I still think back. But curiously, I noticed the exact same effects\n",
            "as I did during the smartphone experiment. It took about a week\n",
            "for my mind to adjust downward into a newer, lower level of stimulation, and this maps, curiously,\n",
            "on top of research that shows that it takes\n",
            "our mind about eight days to fully calm down and rest, like when we're on vacation,\n",
            "as an example. Our vacations need to be longer\n",
            "than they are today. But I also noticed\n",
            "that my attention span expanded. I was able to focus\n",
            "even more effortlessly because I wasn't surrounded\n",
            "by fewer distractions, but my mind was so much less stimulated that it did not seek the distraction\n",
            "in the first place. But the fun part were these ideas\n",
            "and plans that struck me that didn't before, and the reason that this is the case is because my mind had a chance\n",
            "to wander more often. There's a great quote that I love\n",
            "that you might be familiar with \n",
            "Summarized text\n",
            " It took about a week for my mind to adjust downward into a newer, lower level of stimulation . Research shows that it takes about eight days to fully calm down and rest, like when we're on vacation . But I also noticed that my attention span expanded. I was able to focus more easily because I wasn't surrounded by fewer distractions .\n",
            "input text \n",
            "from J. R. R. Tolkien, where he says that\n",
            "\"not all those who wander are lost,\" and the exact same thing is true,\n",
            "it turns out, with regard to our focus, with regard to our attention. If you think back to when your best,\n",
            "most brilliant ideas strike you, you're rarely focused on something. Maybe this morning\n",
            "you were taking a shower, or maybe some morning in the past, and then your mind had a chance to connect\n",
            "several of the constellations of ideas that were swirling around in your mind to create an idea that would\n",
            "never have materialized otherwise if you were focused on something else, on your phone, for example. This is a mode, especially when we do this deliberately,\n",
            "when we deliberately let our mind wander; I call this mode \"scatter focus.\" And the research shows that it lets our mind come up with ideas,\n",
            "it lets our mind plan because of where our mind wanders to. This is fascinating. It turns out that when we just\n",
            "let our attention rest, it goes to three main places: We think about t\n",
            "Summarized text\n",
            " When your best, most brilliant ideas strike you, you're rarely focused on something . This is a mode, especially when we do this deliberately, when we deliberately let our mind wander, is called \"scatter focus\" Research shows that it lets our mind come up with ideas, and it also helps our mind plan because of where our mind wanders to .\n",
            "input text \n",
            "he past,\n",
            "we think about the present, and we think about the future. But we think about the past\n",
            "less than we might think, only about 12% of the time, and often we're recalling ideas\n",
            "in these thought-wandering episodes. But the present, which is a much more\n",
            "productive place to wander - we wander to think\n",
            "about the present 28% of the time. And this is, you know, something\n",
            "as simple as you're typing up an email and you can't find a way\n",
            "to phrase something because it's very delicate,\n",
            "maybe it's political, you go and walk to another room,\n",
            "to another room of the house, the office, and the solution hits you because your mind\n",
            "had a chance to approach it and prod at that problem\n",
            "from different directions. But here's the thing: our minds wander\n",
            "to think about the future more than the past\n",
            "and the present combined. Whenever our mind is wandering,\n",
            "we think about the future 48% of the time. This is why when we're taking a shower,\n",
            "we plan out our entire day, even though it hasn't started yet. This i\n",
            "Summarized text\n",
            " We think about the past less than we might think, only about 12% of the time . But the present is a much more productive place to wander - we wander to think about present 28% of time . Whenever our mind is wandering, we think about future more than the past and the present combined .\n",
            "input text \n",
            "s called\n",
            "our mind's prospective bias, and it occurs when our mind wanders. If you're good with math, or maths, I should say - not in Canada anymore - these numbers don't add up to 100. It's because the rest of the time,\n",
            "our mind is dull, it's blank, or it doesn't have an idea inside of it\n",
            "that is rooted in time. But whatever it is for you\n",
            "that lets your mind wander, something that's simple, something that doesn't\n",
            "consume your full attention. Mine happens to be something that is not necessarily stereotypic\n",
            "of my age and gender demographic, but I love to knit. Knitting is one of my favorite hobbies; I knit in planes, I knit on trains,\n",
            "I knit in hotel rooms. I was knitting in the hotel room\n",
            "before this event today because it helps calm you down,\n",
            "it helps settle your nerves. And I come up with so many ideas\n",
            "when I knit, I have a notepad next to me. But whatever it is for you - it might be taking that extra long shower,\n",
            "it might be taking a bath, upgrading your shower to a bath so you can s\n",
            "Summarized text\n",
            " It's because the rest of the time, our mind is dull, it's blank, or it doesn't have an idea inside of it that is rooted in time . But whatever it is for you - it might be taking that extra long shower, or taking a bath . It might be something simple, something that doesn't consume your full attention .\n",
            "input text \n",
            "oak not just with your body\n",
            "but with your ideas as well. It could be simple; if you're at work walking\n",
            "from one room to another in the office - very simple change - but if you don't use your phone\n",
            "during that walk, your mind will go to the meeting\n",
            "that you're about to attend, it'll go to the call\n",
            "that you were just on, it'll wander to the ideas\n",
            "that are circulating, and it'll make you\n",
            "more creative in this way. It could be something\n",
            "as simple as waiting in line and just, I don't know, waiting in line. It could be getting a massage. You know, whatever it is\n",
            "that lets your mind - I love this picture so much - (Laughter) whatever you love doing. Here's a pro tip: Ask your masseuse to let you\n",
            "have a notepad in the session because ideas always come to you\n",
            "and you're always incubating things, so capture them so you can act upon them later. But I think, after doing\n",
            "this deep dive into the research, we need to make two fundamental shifts with regard to how we think\n",
            "about our attention. We thin\n",
            "Summarized text\n",
            " We thin oak not just with your body but with your ideas as well as your ideas . Ask your masseuse to let you know you have a notepad in the session because ideas always come to you. You're always incubating things, so capture them so you can act upon them later. It could be something as simple as waiting in line .\n",
            "input text \n",
            "k that we need to fit more in - you know, there's all this talk\n",
            "about \"hustling.\" I'm an anti-hustler. I'm one of the laziest people\n",
            "you'll ever meet, and I think that's what gives me\n",
            "so many ideas to talk and write about. We don't need to fit more in. We're doing enough; we're doing too much. We're doing so much\n",
            "that our mind never wanders anymore. It's sad. This is when our best ideas\n",
            "and plans come to us. We need more space. If you look at what allows traffic\n",
            "to move down a highway, what allows it to move forward\n",
            "isn't how fast cars are moving, as you might expect, it's how much space\n",
            "exists between the cars that allows traffic to move forward. Our work and our life are the same way. The second shift: we like to think of distraction\n",
            "as the enemy of focus. It is not. It is a symptom of why\n",
            "we find it difficult to focus, which is the fact\n",
            "that our mind is overstimulated. I have a challenge for you. It's a two-week challenge, but it's a challenge to make your mind\n",
            "a bit less stimulated\n",
            "Summarized text\n",
            " We don't need to fit more in. We're doing enough; we're doing too much. This is when our best ideas and plans come to us. We need more space. We like to think of distraction as the enemy of focus. It is a symptom of why we find it difficult to focus, which is the fact that our mind is overstimulated. It's a two-week challenge to make your mind a bit less stimulated.\n",
            "input text \n",
            " and simply notice: what happens to your attention? How many ideas do you get? How does your focus change? How many plans do you make? So, for two weeks,\n",
            "make your mind less stimulated. There are so many great features\n",
            "on phones, on devices that'll let us eliminate a lot of the time\n",
            "we waste on our devices. Use those features, not only to become aware\n",
            "of how you spend your time but how you can spend less\n",
            "so you have more ideas. Have a disconnection ritual every evening. One of my favorite daily rituals: I disconnect from the Internet completely from 8pm to 8am. My fiancée and I, we have\n",
            "a weekly disconnection ritual, a technology Sabbath every Sunday, so we can disconnect\n",
            "from the digital world and reconnect with the physical world,\n",
            "the real, actual world. Rediscover boredom -\n",
            "you don't have to do it for an hour. Please don't call Air Canada.\n",
            "It's just a world of hell. But rediscover boredom,\n",
            "just for a few minutes. Lay on the couch,\n",
            "and where does your mind go? And scatter your attent\n",
            "Summarized text\n",
            " There are so many great features on phones, on devices that'll let us eliminate a lot of time we waste on our devices . Rediscover boredom - you don't have to do it for an hour . Have a disconnection ritual every evening every evening. Use those features to become aware of how you spend your time and how you can spend less .\n",
            "input text \n",
            "ion. You'll find some\n",
            "remarkably fruitful things in that attentional zone. If there's one thing\n",
            "that I have found to be true after doing this deep dive\n",
            "into this world on how we focus, it's that the state of our attention\n",
            "is what determines the state of our lives. If we're distracted in each moment, those moments of distraction\n",
            "and overstimulation build up and accumulate to create a life that feels\n",
            "more distracted and overwhelming, like we don't have a clear direction. But when we become less stimulated,\n",
            "when we make our mind more calm, we get the benefits of added productivity\n",
            "and focus and ideas and creativity, but we also live\n",
            "a better life because of it. Thank you so much. (Applause)\n",
            "Summarized text\n",
            " If we're distracted in each moment, those moments of distraction and overstimulation build up and accumulate to create a life that feels more distracted and overwhelming . But when we become less stimulated, we get the benefits of added productivity and ideas and creativity, but also live a better life because of it .\n"
          ]
        }
      ]
    },
    {
      "cell_type": "code",
      "source": [
        "len(str(summarized_text))"
      ],
      "metadata": {
        "colab": {
          "base_uri": "https://localhost:8080/"
        },
        "id": "kKNCoCVeHx04",
        "outputId": "cf1a788f-aa1b-4a71-f255-975d038c8609"
      },
      "execution_count": 52,
      "outputs": [
        {
          "output_type": "execute_result",
          "data": {
            "text/plain": [
              "4688"
            ]
          },
          "metadata": {},
          "execution_count": 52
        }
      ]
    },
    {
      "cell_type": "code",
      "source": [
        "str(summarized_text)"
      ],
      "metadata": {
        "colab": {
          "base_uri": "https://localhost:8080/",
          "height": 123
        },
        "id": "OaEl596nHx_0",
        "outputId": "ad1b71c3-9bb0-46ab-9cf1-f09e1ce5fce4"
      },
      "execution_count": 53,
      "outputs": [
        {
          "output_type": "execute_result",
          "data": {
            "text/plain": [
              "'[\\' Amanda Chu: \"From the moment I woke up to the end of the day, my life was a series of screens\" \"I started the day with the thing that woke me up first thing in the morning, my phone,\" she says . \"All the while, this little devil on my wrist was tapping and beeping and blooping and distracting me\"\\', \\' \"I wasted more time on my phone than anything else,\" says John Sutter . Sutter: \"I decided to essentially, for all intents and purposes, get rid of the thing for a month\" \"It took about a week to adjust downward into a new, progressivelylower level of stimulation,\" he says .\\', \\' Aims to get to the bottom of what it takes to focus in a world of distraction . Pored over hundreds of research papers from front to back at his office . Travelled out to meet experts around the world who study focus . Had 25,000 words of research notes about why this is the case .\\', \" We pay attention to the world around us and how much control we have over our focus. We think the problem is that our brains are distracted. But after looking at the research, this is what I\\'ve come to know is the root cause of this distraction. It\\'s not that we\\'re distracted; it\\'s that we crave distraction. Our brains love these tiny little nuggets of information and social media .\", \\' There\\\\\\'s even a mechanism in our mind called the \"novelty bias,\" by which our mind rewards us with a hit of dopamine, one of those wonderful pleasure chemicals . So, this is the state of our minds today. We\\\\\\'re at this hyperstimulated state where we bounce around between objects of attention that are very, very stimulating for our mind. And so, you know, this feeling that we experience when we go from being high stimulation into a state of low stimulation, it has a n\\', \\' \"Boredom\" is the restlessness that we feel when we have a busy week and then we\\\\\\'re lying on the couch, thinking, \"Alright, well, what am I doing now?\" So, I put out a call to the readers of my website and I asked them, \"What is the most boring thing you can think of doing? I\\\\\\'m going to make myself bored,\" he says .\\', \" It took about a week for my mind to adjust downward into a newer, lower level of stimulation . Research shows that it takes about eight days to fully calm down and rest, like when we\\'re on vacation . But I also noticed that my attention span expanded. I was able to focus more easily because I wasn\\'t surrounded by fewer distractions .\", \\' When your best, most brilliant ideas strike you, you\\\\\\'re rarely focused on something . This is a mode, especially when we do this deliberately, when we deliberately let our mind wander, is called \"scatter focus\" Research shows that it lets our mind come up with ideas, and it also helps our mind plan because of where our mind wanders to .\\', \\' We think about the past less than we might think, only about 12% of the time . But the present is a much more productive place to wander - we wander to think about present 28% of time . Whenever our mind is wandering, we think about future more than the past and the present combined .\\', \" It\\'s because the rest of the time, our mind is dull, it\\'s blank, or it doesn\\'t have an idea inside of it that is rooted in time . But whatever it is for you - it might be taking that extra long shower, or taking a bath . It might be something simple, something that doesn\\'t consume your full attention .\", \" We thin oak not just with your body but with your ideas as well as your ideas . Ask your masseuse to let you know you have a notepad in the session because ideas always come to you. You\\'re always incubating things, so capture them so you can act upon them later. It could be something as simple as waiting in line .\", \" We don\\'t need to fit more in. We\\'re doing enough; we\\'re doing too much. This is when our best ideas and plans come to us. We need more space. We like to think of distraction as the enemy of focus. It is a symptom of why we find it difficult to focus, which is the fact that our mind is overstimulated. It\\'s a two-week challenge to make your mind a bit less stimulated.\", \" There are so many great features on phones, on devices that\\'ll let us eliminate a lot of time we waste on our devices . Rediscover boredom - you don\\'t have to do it for an hour . Have a disconnection ritual every evening every evening. Use those features to become aware of how you spend your time and how you can spend less .\", \" If we\\'re distracted in each moment, those moments of distraction and overstimulation build up and accumulate to create a life that feels more distracted and overwhelming . But when we become less stimulated, we get the benefits of added productivity and ideas and creativity, but also live a better life because of it .\"]'"
            ],
            "application/vnd.google.colaboratory.intrinsic+json": {
              "type": "string"
            }
          },
          "metadata": {},
          "execution_count": 53
        }
      ]
    }
  ]
}